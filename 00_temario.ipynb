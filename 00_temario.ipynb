{
  "nbformat": 4,
  "nbformat_minor": 0,
  "metadata": {
    "kernelspec": {
      "display_name": "Python 3",
      "language": "python",
      "name": "python3"
    },
    "language_info": {
      "codemirror_mode": {
        "name": "ipython",
        "version": 3
      },
      "file_extension": ".py",
      "mimetype": "text/x-python",
      "name": "python",
      "nbconvert_exporter": "python",
      "pygments_lexer": "ipython3",
      "version": "3.7.3"
    },
    "toc": {
      "base_numbering": 1,
      "nav_menu": {},
      "number_sections": false,
      "sideBar": false,
      "skip_h1_title": false,
      "title_cell": "Table of Contents",
      "title_sidebar": "Contents",
      "toc_cell": false,
      "toc_position": {},
      "toc_section_display": false,
      "toc_window_display": false
    },
    "colab": {
      "name": "00_temario.ipynb",
      "version": "0.3.2",
      "provenance": [],
      "collapsed_sections": [],
      "include_colab_link": true
    }
  },
  "cells": [
    {
      "cell_type": "markdown",
      "metadata": {
        "id": "view-in-github",
        "colab_type": "text"
      },
      "source": [
        "<a href=\"https://colab.research.google.com/github/trigila/c_intro/blob/master/00_temario.ipynb\" target=\"_parent\"><img src=\"https://colab.research.google.com/assets/colab-badge.svg\" alt=\"Open In Colab\"/></a>"
      ]
    },
    {
      "cell_type": "markdown",
      "metadata": {
        "id": "diuCT4vDN9yJ",
        "colab_type": "text"
      },
      "source": [
        "<span style= \"float: right;\"> <a href=\"https://www.python.org/\"> <img style= \"float: right;\" src=\"http://openwhisk.incubator.apache.org/images/runtimes/icon-python-text-color-horz.png\" width=\"170\" height=\"80\" /> </a> </span>\n",
        "# **CURSO:** Introducción a la programación con Python\n",
        "\n",
        "---\n",
        "\n",
        "<a href=\"https://trigila.github.io/\"><img style= \"float: right;\" src=\"https://img.shields.io/badge/Page-Mariano Trigila-green.svg\" /></a>\n",
        "        \n",
        "[**Mariano Trigila**](mailto:marianotrigila@gmail.com)  | _Last update: 30 de Julio del 2019_\n",
        "    \n",
        "---\n"
      ]
    },
    {
      "cell_type": "markdown",
      "metadata": {
        "id": "W13prvGwN9yK",
        "colab_type": "text"
      },
      "source": [
        "# Temario\n",
        "\n",
        "1. Introducción al lenguaje Python.\n",
        "2. SASDASDASD\n",
        "* Palabras reservadas y espacio de nombres.\n",
        "* Expresiones y declaraciones.\n",
        "* Números, cadenas de caracteres, tipos y operadores.\n",
        "* Orientación a objetos e introspección.\n",
        "* Entrada y salida estándar.\n",
        "* Bloques, comentarios y condicionales.\n",
        "* Ciclos, iteraciones e interrupciones de ejecución.\n",
        "* Objetos tipo _list_ y tipo _tuple_.\n",
        "* Objetos tipo _dict_.\n",
        "* Objetos tipo _str_. \n",
        "* Objetos tipo _set_ y _frozenset_.\n",
        "* Funciones.\n",
        "* Gestión de excepciones.\n",
        "* Iteradores y generadores.\n",
        "* Completado de elementos.\n",
        "* Entrada y salida de archivos.\n",
        "* Módulos y paquetes.\n",
        "* Gestión de módulos y paquetes con pip.\n",
        "* Creación de paquetes con setuptools.\n",
        "* Entornos virtuales.  \n"
      ]
    },
    {
      "cell_type": "markdown",
      "metadata": {
        "collapsed": true,
        "id": "-0JThS_aN9yL",
        "colab_type": "text"
      },
      "source": [
        "\n",
        "---\n",
        "\n",
        "\n",
        "<p style=\"text-align: center\"><a rel=\"license\" href=\"http://creativecommons.org/licenses/by/4.0/\"><img alt=\"Licencia Creative Commons\" style=\"border-width:0\" src=\"https://i.creativecommons.org/l/by/4.0/80x15.png\" /></a><br />Esta obra está bajo una <a rel=\"license\" href=\"http://creativecommons.org/licenses/by/4.0/\">Licencia Creative Commons Atribución 4.0 Internacional</a>.</p>\n",
        "<p style=\"text-align: center\">&copy; Mariano Trigila. 2019.</p>"
      ]
    }
  ]
}